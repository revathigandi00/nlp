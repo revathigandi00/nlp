{
  "nbformat": 4,
  "nbformat_minor": 0,
  "metadata": {
    "colab": {
      "provenance": [],
      "authorship_tag": "ABX9TyNwWmZ+5xcYd/Nr5bLCXuVV"
    },
    "kernelspec": {
      "name": "python3",
      "display_name": "Python 3"
    },
    "language_info": {
      "name": "python"
    }
  },
  "cells": [
    {
      "cell_type": "code",
      "execution_count": null,
      "metadata": {
        "colab": {
          "base_uri": "https://localhost:8080/"
        },
        "id": "7z80LgZ4NVga",
        "outputId": "f836e6c1-c4d1-4c7b-8102-5084e2a6be76"
      },
      "outputs": [
        {
          "output_type": "execute_result",
          "data": {
            "text/plain": [
              "326"
            ]
          },
          "metadata": {},
          "execution_count": 2
        }
      ],
      "source": [
        "import spacy\n",
        "\n",
        "from spacy.lang.en.stop_words import STOP_WORDS\n",
        "\n",
        "\n",
        "len(STOP_WORDS)"
      ]
    },
    {
      "cell_type": "code",
      "source": [
        "nlp=spacy.load(\"en_core_web_sm\")\n",
        "\n",
        "doc=nlp(\"we just opened oue wings, the flying part is coming soon\")\n",
        "\n",
        "for token in doc:\n",
        "  if token.is_stop:\n",
        "    print(token)"
      ],
      "metadata": {
        "colab": {
          "base_uri": "https://localhost:8080/"
        },
        "id": "u80rDswwNxN0",
        "outputId": "af8e0551-ffa9-4eb5-ea1e-c3f7de7ffcaf"
      },
      "execution_count": null,
      "outputs": [
        {
          "output_type": "stream",
          "name": "stdout",
          "text": [
            "we\n",
            "just\n",
            "the\n",
            "part\n",
            "is\n"
          ]
        }
      ]
    },
    {
      "cell_type": "code",
      "source": [
        "def preprocess(text):\n",
        "\n",
        "    doc=nlp(text)\n",
        "\n",
        "    no_stop_words=[token.text for token in doc if not token.is_stop and not token.is_punct]\n",
        "    return \" \".join(no_stop_words)"
      ],
      "metadata": {
        "id": "Ony3B3tIOJHf"
      },
      "execution_count": null,
      "outputs": []
    },
    {
      "cell_type": "code",
      "source": [
        "preprocess(\"we just opened oue wings, the flying part is coming soon\")"
      ],
      "metadata": {
        "colab": {
          "base_uri": "https://localhost:8080/",
          "height": 36
        },
        "id": "Wye25NQIOm1y",
        "outputId": "358b6294-7626-4195-98a4-b4bbc0ebb33b"
      },
      "execution_count": null,
      "outputs": [
        {
          "output_type": "execute_result",
          "data": {
            "text/plain": [
              "'opened oue wings flying coming soon'"
            ],
            "application/vnd.google.colaboratory.intrinsic+json": {
              "type": "string"
            }
          },
          "metadata": {},
          "execution_count": 29
        }
      ]
    },
    {
      "cell_type": "code",
      "source": [
        "import pandas as pd\n",
        "\n",
        "df=pd.read_json(\"/content/combined.json\",lines=True)\n",
        "\n",
        "df.shape"
      ],
      "metadata": {
        "colab": {
          "base_uri": "https://localhost:8080/"
        },
        "id": "IMJMbdeRO59w",
        "outputId": "820daa16-5c20-481f-847d-bdede300505e"
      },
      "execution_count": null,
      "outputs": [
        {
          "output_type": "execute_result",
          "data": {
            "text/plain": [
              "(13087, 6)"
            ]
          },
          "metadata": {},
          "execution_count": 14
        }
      ]
    },
    {
      "cell_type": "code",
      "source": [
        "df.head(5)"
      ],
      "metadata": {
        "colab": {
          "base_uri": "https://localhost:8080/",
          "height": 545
        },
        "id": "4gI1eeq1UoTx",
        "outputId": "64561d9d-3136-4f9b-ebe2-7e18c4ab376a"
      },
      "execution_count": null,
      "outputs": [
        {
          "output_type": "execute_result",
          "data": {
            "text/plain": [
              "        id                                              title  \\\n",
              "0     None       Convicted Bomb Plotter Sentenced to 30 Years   \n",
              "1  12-919   $1 Million in Restitution Payments Announced t...   \n",
              "2  11-1002  $1 Million Settlement Reached for Natural Reso...   \n",
              "3   10-015  10 Las Vegas Men Indicted \\r\\nfor Falsifying V...   \n",
              "4   18-898  $100 Million Settlement Will Speed Cleanup Wor...   \n",
              "\n",
              "                                            contents  \\\n",
              "0  PORTLAND, Oregon. – Mohamed Osman Mohamud, 23,...   \n",
              "1    WASHINGTON – North Carolina’s Waccamaw River...   \n",
              "2        BOSTON– A $1-million settlement has been...   \n",
              "3    WASHINGTON—A federal grand jury in Las Vegas...   \n",
              "4  The U.S. Department of Justice, the U.S. Envir...   \n",
              "\n",
              "                        date         topics  \\\n",
              "0  2014-10-01T00:00:00-04:00             []   \n",
              "1  2012-07-25T00:00:00-04:00             []   \n",
              "2  2011-08-03T00:00:00-04:00             []   \n",
              "3  2010-01-08T00:00:00-05:00             []   \n",
              "4  2018-07-09T00:00:00-04:00  [Environment]   \n",
              "\n",
              "                                     components  \n",
              "0            [National Security Division (NSD)]  \n",
              "1  [Environment and Natural Resources Division]  \n",
              "2  [Environment and Natural Resources Division]  \n",
              "3  [Environment and Natural Resources Division]  \n",
              "4  [Environment and Natural Resources Division]  "
            ],
            "text/html": [
              "\n",
              "  <div id=\"df-c0138532-2ed4-4429-8624-2338b6805d8b\">\n",
              "    <div class=\"colab-df-container\">\n",
              "      <div>\n",
              "<style scoped>\n",
              "    .dataframe tbody tr th:only-of-type {\n",
              "        vertical-align: middle;\n",
              "    }\n",
              "\n",
              "    .dataframe tbody tr th {\n",
              "        vertical-align: top;\n",
              "    }\n",
              "\n",
              "    .dataframe thead th {\n",
              "        text-align: right;\n",
              "    }\n",
              "</style>\n",
              "<table border=\"1\" class=\"dataframe\">\n",
              "  <thead>\n",
              "    <tr style=\"text-align: right;\">\n",
              "      <th></th>\n",
              "      <th>id</th>\n",
              "      <th>title</th>\n",
              "      <th>contents</th>\n",
              "      <th>date</th>\n",
              "      <th>topics</th>\n",
              "      <th>components</th>\n",
              "    </tr>\n",
              "  </thead>\n",
              "  <tbody>\n",
              "    <tr>\n",
              "      <th>0</th>\n",
              "      <td>None</td>\n",
              "      <td>Convicted Bomb Plotter Sentenced to 30 Years</td>\n",
              "      <td>PORTLAND, Oregon. – Mohamed Osman Mohamud, 23,...</td>\n",
              "      <td>2014-10-01T00:00:00-04:00</td>\n",
              "      <td>[]</td>\n",
              "      <td>[National Security Division (NSD)]</td>\n",
              "    </tr>\n",
              "    <tr>\n",
              "      <th>1</th>\n",
              "      <td>12-919</td>\n",
              "      <td>$1 Million in Restitution Payments Announced t...</td>\n",
              "      <td>WASHINGTON – North Carolina’s Waccamaw River...</td>\n",
              "      <td>2012-07-25T00:00:00-04:00</td>\n",
              "      <td>[]</td>\n",
              "      <td>[Environment and Natural Resources Division]</td>\n",
              "    </tr>\n",
              "    <tr>\n",
              "      <th>2</th>\n",
              "      <td>11-1002</td>\n",
              "      <td>$1 Million Settlement Reached for Natural Reso...</td>\n",
              "      <td>BOSTON– A $1-million settlement has been...</td>\n",
              "      <td>2011-08-03T00:00:00-04:00</td>\n",
              "      <td>[]</td>\n",
              "      <td>[Environment and Natural Resources Division]</td>\n",
              "    </tr>\n",
              "    <tr>\n",
              "      <th>3</th>\n",
              "      <td>10-015</td>\n",
              "      <td>10 Las Vegas Men Indicted \\r\\nfor Falsifying V...</td>\n",
              "      <td>WASHINGTON—A federal grand jury in Las Vegas...</td>\n",
              "      <td>2010-01-08T00:00:00-05:00</td>\n",
              "      <td>[]</td>\n",
              "      <td>[Environment and Natural Resources Division]</td>\n",
              "    </tr>\n",
              "    <tr>\n",
              "      <th>4</th>\n",
              "      <td>18-898</td>\n",
              "      <td>$100 Million Settlement Will Speed Cleanup Wor...</td>\n",
              "      <td>The U.S. Department of Justice, the U.S. Envir...</td>\n",
              "      <td>2018-07-09T00:00:00-04:00</td>\n",
              "      <td>[Environment]</td>\n",
              "      <td>[Environment and Natural Resources Division]</td>\n",
              "    </tr>\n",
              "  </tbody>\n",
              "</table>\n",
              "</div>\n",
              "      <button class=\"colab-df-convert\" onclick=\"convertToInteractive('df-c0138532-2ed4-4429-8624-2338b6805d8b')\"\n",
              "              title=\"Convert this dataframe to an interactive table.\"\n",
              "              style=\"display:none;\">\n",
              "        \n",
              "  <svg xmlns=\"http://www.w3.org/2000/svg\" height=\"24px\"viewBox=\"0 0 24 24\"\n",
              "       width=\"24px\">\n",
              "    <path d=\"M0 0h24v24H0V0z\" fill=\"none\"/>\n",
              "    <path d=\"M18.56 5.44l.94 2.06.94-2.06 2.06-.94-2.06-.94-.94-2.06-.94 2.06-2.06.94zm-11 1L8.5 8.5l.94-2.06 2.06-.94-2.06-.94L8.5 2.5l-.94 2.06-2.06.94zm10 10l.94 2.06.94-2.06 2.06-.94-2.06-.94-.94-2.06-.94 2.06-2.06.94z\"/><path d=\"M17.41 7.96l-1.37-1.37c-.4-.4-.92-.59-1.43-.59-.52 0-1.04.2-1.43.59L10.3 9.45l-7.72 7.72c-.78.78-.78 2.05 0 2.83L4 21.41c.39.39.9.59 1.41.59.51 0 1.02-.2 1.41-.59l7.78-7.78 2.81-2.81c.8-.78.8-2.07 0-2.86zM5.41 20L4 18.59l7.72-7.72 1.47 1.35L5.41 20z\"/>\n",
              "  </svg>\n",
              "      </button>\n",
              "      \n",
              "  <style>\n",
              "    .colab-df-container {\n",
              "      display:flex;\n",
              "      flex-wrap:wrap;\n",
              "      gap: 12px;\n",
              "    }\n",
              "\n",
              "    .colab-df-convert {\n",
              "      background-color: #E8F0FE;\n",
              "      border: none;\n",
              "      border-radius: 50%;\n",
              "      cursor: pointer;\n",
              "      display: none;\n",
              "      fill: #1967D2;\n",
              "      height: 32px;\n",
              "      padding: 0 0 0 0;\n",
              "      width: 32px;\n",
              "    }\n",
              "\n",
              "    .colab-df-convert:hover {\n",
              "      background-color: #E2EBFA;\n",
              "      box-shadow: 0px 1px 2px rgba(60, 64, 67, 0.3), 0px 1px 3px 1px rgba(60, 64, 67, 0.15);\n",
              "      fill: #174EA6;\n",
              "    }\n",
              "\n",
              "    [theme=dark] .colab-df-convert {\n",
              "      background-color: #3B4455;\n",
              "      fill: #D2E3FC;\n",
              "    }\n",
              "\n",
              "    [theme=dark] .colab-df-convert:hover {\n",
              "      background-color: #434B5C;\n",
              "      box-shadow: 0px 1px 3px 1px rgba(0, 0, 0, 0.15);\n",
              "      filter: drop-shadow(0px 1px 2px rgba(0, 0, 0, 0.3));\n",
              "      fill: #FFFFFF;\n",
              "    }\n",
              "  </style>\n",
              "\n",
              "      <script>\n",
              "        const buttonEl =\n",
              "          document.querySelector('#df-c0138532-2ed4-4429-8624-2338b6805d8b button.colab-df-convert');\n",
              "        buttonEl.style.display =\n",
              "          google.colab.kernel.accessAllowed ? 'block' : 'none';\n",
              "\n",
              "        async function convertToInteractive(key) {\n",
              "          const element = document.querySelector('#df-c0138532-2ed4-4429-8624-2338b6805d8b');\n",
              "          const dataTable =\n",
              "            await google.colab.kernel.invokeFunction('convertToInteractive',\n",
              "                                                     [key], {});\n",
              "          if (!dataTable) return;\n",
              "\n",
              "          const docLinkHtml = 'Like what you see? Visit the ' +\n",
              "            '<a target=\"_blank\" href=https://colab.research.google.com/notebooks/data_table.ipynb>data table notebook</a>'\n",
              "            + ' to learn more about interactive tables.';\n",
              "          element.innerHTML = '';\n",
              "          dataTable['output_type'] = 'display_data';\n",
              "          await google.colab.output.renderOutput(dataTable, element);\n",
              "          const docLink = document.createElement('div');\n",
              "          docLink.innerHTML = docLinkHtml;\n",
              "          element.appendChild(docLink);\n",
              "        }\n",
              "      </script>\n",
              "    </div>\n",
              "  </div>\n",
              "  "
            ]
          },
          "metadata": {},
          "execution_count": 15
        }
      ]
    },
    {
      "cell_type": "code",
      "source": [
        "df=df[df[\"topics\"].str.len()!=0]\n",
        "df.head()"
      ],
      "metadata": {
        "colab": {
          "base_uri": "https://localhost:8080/",
          "height": 545
        },
        "id": "0z0FwoajUyNt",
        "outputId": "4c66be68-e927-4967-d714-8a4230d20c73"
      },
      "execution_count": null,
      "outputs": [
        {
          "output_type": "execute_result",
          "data": {
            "text/plain": [
              "         id                                              title  \\\n",
              "4    18-898  $100 Million Settlement Will Speed Cleanup Wor...   \n",
              "7   14-1412  14 Indicted in Connection with New England Com...   \n",
              "19  17-1419  2017 Southeast Regional Animal Cruelty Prosecu...   \n",
              "22  15-1562  21st Century Oncology to Pay $19.75 Million to...   \n",
              "23  17-1404  21st Century Oncology to Pay $26 Million to Se...   \n",
              "\n",
              "                                             contents  \\\n",
              "4   The U.S. Department of Justice, the U.S. Envir...   \n",
              "7   A 131-count criminal indictment was unsealed t...   \n",
              "19  The United States Attorney’s Office for the Mi...   \n",
              "22  21st Century Oncology LLC, has agreed to pay $...   \n",
              "23  21st Century Oncology Inc. and certain of its ...   \n",
              "\n",
              "                         date                                 topics  \\\n",
              "4   2018-07-09T00:00:00-04:00                          [Environment]   \n",
              "7   2014-12-17T00:00:00-05:00                  [Consumer Protection]   \n",
              "19  2017-12-14T00:00:00-05:00                          [Environment]   \n",
              "22  2015-12-18T00:00:00-05:00  [False Claims Act, Health Care Fraud]   \n",
              "23  2017-12-12T00:00:00-05:00  [Health Care Fraud, False Claims Act]   \n",
              "\n",
              "                                           components  \n",
              "4        [Environment and Natural Resources Division]  \n",
              "7                                    [Civil Division]  \n",
              "19  [Environment and Natural Resources Division, U...  \n",
              "22                                   [Civil Division]  \n",
              "23           [Civil Division, USAO - Florida, Middle]  "
            ],
            "text/html": [
              "\n",
              "  <div id=\"df-cf4a7c29-a2f2-424b-a31b-faf31f7cc9c6\">\n",
              "    <div class=\"colab-df-container\">\n",
              "      <div>\n",
              "<style scoped>\n",
              "    .dataframe tbody tr th:only-of-type {\n",
              "        vertical-align: middle;\n",
              "    }\n",
              "\n",
              "    .dataframe tbody tr th {\n",
              "        vertical-align: top;\n",
              "    }\n",
              "\n",
              "    .dataframe thead th {\n",
              "        text-align: right;\n",
              "    }\n",
              "</style>\n",
              "<table border=\"1\" class=\"dataframe\">\n",
              "  <thead>\n",
              "    <tr style=\"text-align: right;\">\n",
              "      <th></th>\n",
              "      <th>id</th>\n",
              "      <th>title</th>\n",
              "      <th>contents</th>\n",
              "      <th>date</th>\n",
              "      <th>topics</th>\n",
              "      <th>components</th>\n",
              "    </tr>\n",
              "  </thead>\n",
              "  <tbody>\n",
              "    <tr>\n",
              "      <th>4</th>\n",
              "      <td>18-898</td>\n",
              "      <td>$100 Million Settlement Will Speed Cleanup Wor...</td>\n",
              "      <td>The U.S. Department of Justice, the U.S. Envir...</td>\n",
              "      <td>2018-07-09T00:00:00-04:00</td>\n",
              "      <td>[Environment]</td>\n",
              "      <td>[Environment and Natural Resources Division]</td>\n",
              "    </tr>\n",
              "    <tr>\n",
              "      <th>7</th>\n",
              "      <td>14-1412</td>\n",
              "      <td>14 Indicted in Connection with New England Com...</td>\n",
              "      <td>A 131-count criminal indictment was unsealed t...</td>\n",
              "      <td>2014-12-17T00:00:00-05:00</td>\n",
              "      <td>[Consumer Protection]</td>\n",
              "      <td>[Civil Division]</td>\n",
              "    </tr>\n",
              "    <tr>\n",
              "      <th>19</th>\n",
              "      <td>17-1419</td>\n",
              "      <td>2017 Southeast Regional Animal Cruelty Prosecu...</td>\n",
              "      <td>The United States Attorney’s Office for the Mi...</td>\n",
              "      <td>2017-12-14T00:00:00-05:00</td>\n",
              "      <td>[Environment]</td>\n",
              "      <td>[Environment and Natural Resources Division, U...</td>\n",
              "    </tr>\n",
              "    <tr>\n",
              "      <th>22</th>\n",
              "      <td>15-1562</td>\n",
              "      <td>21st Century Oncology to Pay $19.75 Million to...</td>\n",
              "      <td>21st Century Oncology LLC, has agreed to pay $...</td>\n",
              "      <td>2015-12-18T00:00:00-05:00</td>\n",
              "      <td>[False Claims Act, Health Care Fraud]</td>\n",
              "      <td>[Civil Division]</td>\n",
              "    </tr>\n",
              "    <tr>\n",
              "      <th>23</th>\n",
              "      <td>17-1404</td>\n",
              "      <td>21st Century Oncology to Pay $26 Million to Se...</td>\n",
              "      <td>21st Century Oncology Inc. and certain of its ...</td>\n",
              "      <td>2017-12-12T00:00:00-05:00</td>\n",
              "      <td>[Health Care Fraud, False Claims Act]</td>\n",
              "      <td>[Civil Division, USAO - Florida, Middle]</td>\n",
              "    </tr>\n",
              "  </tbody>\n",
              "</table>\n",
              "</div>\n",
              "      <button class=\"colab-df-convert\" onclick=\"convertToInteractive('df-cf4a7c29-a2f2-424b-a31b-faf31f7cc9c6')\"\n",
              "              title=\"Convert this dataframe to an interactive table.\"\n",
              "              style=\"display:none;\">\n",
              "        \n",
              "  <svg xmlns=\"http://www.w3.org/2000/svg\" height=\"24px\"viewBox=\"0 0 24 24\"\n",
              "       width=\"24px\">\n",
              "    <path d=\"M0 0h24v24H0V0z\" fill=\"none\"/>\n",
              "    <path d=\"M18.56 5.44l.94 2.06.94-2.06 2.06-.94-2.06-.94-.94-2.06-.94 2.06-2.06.94zm-11 1L8.5 8.5l.94-2.06 2.06-.94-2.06-.94L8.5 2.5l-.94 2.06-2.06.94zm10 10l.94 2.06.94-2.06 2.06-.94-2.06-.94-.94-2.06-.94 2.06-2.06.94z\"/><path d=\"M17.41 7.96l-1.37-1.37c-.4-.4-.92-.59-1.43-.59-.52 0-1.04.2-1.43.59L10.3 9.45l-7.72 7.72c-.78.78-.78 2.05 0 2.83L4 21.41c.39.39.9.59 1.41.59.51 0 1.02-.2 1.41-.59l7.78-7.78 2.81-2.81c.8-.78.8-2.07 0-2.86zM5.41 20L4 18.59l7.72-7.72 1.47 1.35L5.41 20z\"/>\n",
              "  </svg>\n",
              "      </button>\n",
              "      \n",
              "  <style>\n",
              "    .colab-df-container {\n",
              "      display:flex;\n",
              "      flex-wrap:wrap;\n",
              "      gap: 12px;\n",
              "    }\n",
              "\n",
              "    .colab-df-convert {\n",
              "      background-color: #E8F0FE;\n",
              "      border: none;\n",
              "      border-radius: 50%;\n",
              "      cursor: pointer;\n",
              "      display: none;\n",
              "      fill: #1967D2;\n",
              "      height: 32px;\n",
              "      padding: 0 0 0 0;\n",
              "      width: 32px;\n",
              "    }\n",
              "\n",
              "    .colab-df-convert:hover {\n",
              "      background-color: #E2EBFA;\n",
              "      box-shadow: 0px 1px 2px rgba(60, 64, 67, 0.3), 0px 1px 3px 1px rgba(60, 64, 67, 0.15);\n",
              "      fill: #174EA6;\n",
              "    }\n",
              "\n",
              "    [theme=dark] .colab-df-convert {\n",
              "      background-color: #3B4455;\n",
              "      fill: #D2E3FC;\n",
              "    }\n",
              "\n",
              "    [theme=dark] .colab-df-convert:hover {\n",
              "      background-color: #434B5C;\n",
              "      box-shadow: 0px 1px 3px 1px rgba(0, 0, 0, 0.15);\n",
              "      filter: drop-shadow(0px 1px 2px rgba(0, 0, 0, 0.3));\n",
              "      fill: #FFFFFF;\n",
              "    }\n",
              "  </style>\n",
              "\n",
              "      <script>\n",
              "        const buttonEl =\n",
              "          document.querySelector('#df-cf4a7c29-a2f2-424b-a31b-faf31f7cc9c6 button.colab-df-convert');\n",
              "        buttonEl.style.display =\n",
              "          google.colab.kernel.accessAllowed ? 'block' : 'none';\n",
              "\n",
              "        async function convertToInteractive(key) {\n",
              "          const element = document.querySelector('#df-cf4a7c29-a2f2-424b-a31b-faf31f7cc9c6');\n",
              "          const dataTable =\n",
              "            await google.colab.kernel.invokeFunction('convertToInteractive',\n",
              "                                                     [key], {});\n",
              "          if (!dataTable) return;\n",
              "\n",
              "          const docLinkHtml = 'Like what you see? Visit the ' +\n",
              "            '<a target=\"_blank\" href=https://colab.research.google.com/notebooks/data_table.ipynb>data table notebook</a>'\n",
              "            + ' to learn more about interactive tables.';\n",
              "          element.innerHTML = '';\n",
              "          dataTable['output_type'] = 'display_data';\n",
              "          await google.colab.output.renderOutput(dataTable, element);\n",
              "          const docLink = document.createElement('div');\n",
              "          docLink.innerHTML = docLinkHtml;\n",
              "          element.appendChild(docLink);\n",
              "        }\n",
              "      </script>\n",
              "    </div>\n",
              "  </div>\n",
              "  "
            ]
          },
          "metadata": {},
          "execution_count": 16
        }
      ]
    },
    {
      "cell_type": "code",
      "source": [
        "df.shape"
      ],
      "metadata": {
        "colab": {
          "base_uri": "https://localhost:8080/"
        },
        "id": "ZlfR2ChHU9wt",
        "outputId": "cb5ca556-0e06-499e-bb9b-3eec1bdc4cff"
      },
      "execution_count": null,
      "outputs": [
        {
          "output_type": "execute_result",
          "data": {
            "text/plain": [
              "(4688, 6)"
            ]
          },
          "metadata": {},
          "execution_count": 18
        }
      ]
    },
    {
      "cell_type": "code",
      "source": [
        "df=df.head(100)\n",
        "df.shape"
      ],
      "metadata": {
        "colab": {
          "base_uri": "https://localhost:8080/"
        },
        "id": "zdAvNW2_VEQx",
        "outputId": "3cc708f2-7cca-4ce1-bf42-4024431bffff"
      },
      "execution_count": null,
      "outputs": [
        {
          "output_type": "execute_result",
          "data": {
            "text/plain": [
              "(100, 6)"
            ]
          },
          "metadata": {},
          "execution_count": 19
        }
      ]
    },
    {
      "cell_type": "code",
      "source": [
        "df[\"contents_new\"]=df[\"contents\"].apply(preprocess)\n",
        "\n",
        "df"
      ],
      "metadata": {
        "colab": {
          "base_uri": "https://localhost:8080/",
          "height": 1000
        },
        "id": "QaEvRbNKVIS7",
        "outputId": "79b4738a-b458-449f-d6a1-9f9bdf082047"
      },
      "execution_count": null,
      "outputs": [
        {
          "output_type": "execute_result",
          "data": {
            "text/plain": [
              "          id                                              title  \\\n",
              "4     18-898  $100 Million Settlement Will Speed Cleanup Wor...   \n",
              "7    14-1412  14 Indicted in Connection with New England Com...   \n",
              "19   17-1419  2017 Southeast Regional Animal Cruelty Prosecu...   \n",
              "22   15-1562  21st Century Oncology to Pay $19.75 Million to...   \n",
              "23   17-1404  21st Century Oncology to Pay $26 Million to Se...   \n",
              "..       ...                                                ...   \n",
              "316  15-1359  Alaska Plastic Surgeon Convicted of Wire Fraud...   \n",
              "318   16-396  Alaska Plastic Surgeon Sentenced to Prison for...   \n",
              "321   17-736  Alaskan Commercial Fishing Couple Charged with...   \n",
              "322   18-717  Alaskan Husband And Wife Plead Guilty To Willf...   \n",
              "324  16-1345        Alaskan Oncologist Indicted for Tax Evasion   \n",
              "\n",
              "                                              contents  \\\n",
              "4    The U.S. Department of Justice, the U.S. Envir...   \n",
              "7    A 131-count criminal indictment was unsealed t...   \n",
              "19   The United States Attorney’s Office for the Mi...   \n",
              "22   21st Century Oncology LLC, has agreed to pay $...   \n",
              "23   21st Century Oncology Inc. and certain of its ...   \n",
              "..                                                 ...   \n",
              "316  Doctor Hid Millions in Secret Accounts in Pana...   \n",
              "318  Defendant Concealed Bank Accounts in Panama an...   \n",
              "321  An Alaskan couple was charged in federal court...   \n",
              "322  A husband and wife pleaded guilty yesterday to...   \n",
              "324  A resident of Big Lake, Alaska was indicted on...   \n",
              "\n",
              "                          date                                 topics  \\\n",
              "4    2018-07-09T00:00:00-04:00                          [Environment]   \n",
              "7    2014-12-17T00:00:00-05:00                  [Consumer Protection]   \n",
              "19   2017-12-14T00:00:00-05:00                          [Environment]   \n",
              "22   2015-12-18T00:00:00-05:00  [False Claims Act, Health Care Fraud]   \n",
              "23   2017-12-12T00:00:00-05:00  [Health Care Fraud, False Claims Act]   \n",
              "..                         ...                                    ...   \n",
              "316  2015-11-04T00:00:00-05:00                                  [Tax]   \n",
              "318  2016-04-04T00:00:00-04:00                                  [Tax]   \n",
              "321  2017-07-26T00:00:00-04:00                                  [Tax]   \n",
              "322  2018-06-01T00:00:00-04:00                                  [Tax]   \n",
              "324  2016-11-17T00:00:00-05:00                                  [Tax]   \n",
              "\n",
              "                                            components  \\\n",
              "4         [Environment and Natural Resources Division]   \n",
              "7                                     [Civil Division]   \n",
              "19   [Environment and Natural Resources Division, U...   \n",
              "22                                    [Civil Division]   \n",
              "23            [Civil Division, USAO - Florida, Middle]   \n",
              "..                                                 ...   \n",
              "316                                     [Tax Division]   \n",
              "318                                     [Tax Division]   \n",
              "321                      [Tax Division, USAO - Alaska]   \n",
              "322                                     [Tax Division]   \n",
              "324                                     [Tax Division]   \n",
              "\n",
              "                                          contents_new  \n",
              "4    U.S. Department Justice U.S. Environmental Pro...  \n",
              "7    131 count criminal indictment unsealed today B...  \n",
              "19   United States Attorney Office Middle District ...  \n",
              "22   21st Century Oncology LLC agreed pay $ 19.75 m...  \n",
              "23   21st Century Oncology Inc. certain subsidiarie...  \n",
              "..                                                 ...  \n",
              "316  Doctor Hid Millions Secret Accounts Panama Ala...  \n",
              "318  Defendant Concealed Bank Accounts Panama Costa...  \n",
              "321  Alaskan couple charged federal court Juneau Al...  \n",
              "322  husband wife pleaded guilty yesterday counts w...  \n",
              "324  resident Big Lake Alaska indicted counts tax e...  \n",
              "\n",
              "[100 rows x 7 columns]"
            ],
            "text/html": [
              "\n",
              "  <div id=\"df-6fc5fa9f-b90e-476c-8809-e0e63a9ecb04\">\n",
              "    <div class=\"colab-df-container\">\n",
              "      <div>\n",
              "<style scoped>\n",
              "    .dataframe tbody tr th:only-of-type {\n",
              "        vertical-align: middle;\n",
              "    }\n",
              "\n",
              "    .dataframe tbody tr th {\n",
              "        vertical-align: top;\n",
              "    }\n",
              "\n",
              "    .dataframe thead th {\n",
              "        text-align: right;\n",
              "    }\n",
              "</style>\n",
              "<table border=\"1\" class=\"dataframe\">\n",
              "  <thead>\n",
              "    <tr style=\"text-align: right;\">\n",
              "      <th></th>\n",
              "      <th>id</th>\n",
              "      <th>title</th>\n",
              "      <th>contents</th>\n",
              "      <th>date</th>\n",
              "      <th>topics</th>\n",
              "      <th>components</th>\n",
              "      <th>contents_new</th>\n",
              "    </tr>\n",
              "  </thead>\n",
              "  <tbody>\n",
              "    <tr>\n",
              "      <th>4</th>\n",
              "      <td>18-898</td>\n",
              "      <td>$100 Million Settlement Will Speed Cleanup Wor...</td>\n",
              "      <td>The U.S. Department of Justice, the U.S. Envir...</td>\n",
              "      <td>2018-07-09T00:00:00-04:00</td>\n",
              "      <td>[Environment]</td>\n",
              "      <td>[Environment and Natural Resources Division]</td>\n",
              "      <td>U.S. Department Justice U.S. Environmental Pro...</td>\n",
              "    </tr>\n",
              "    <tr>\n",
              "      <th>7</th>\n",
              "      <td>14-1412</td>\n",
              "      <td>14 Indicted in Connection with New England Com...</td>\n",
              "      <td>A 131-count criminal indictment was unsealed t...</td>\n",
              "      <td>2014-12-17T00:00:00-05:00</td>\n",
              "      <td>[Consumer Protection]</td>\n",
              "      <td>[Civil Division]</td>\n",
              "      <td>131 count criminal indictment unsealed today B...</td>\n",
              "    </tr>\n",
              "    <tr>\n",
              "      <th>19</th>\n",
              "      <td>17-1419</td>\n",
              "      <td>2017 Southeast Regional Animal Cruelty Prosecu...</td>\n",
              "      <td>The United States Attorney’s Office for the Mi...</td>\n",
              "      <td>2017-12-14T00:00:00-05:00</td>\n",
              "      <td>[Environment]</td>\n",
              "      <td>[Environment and Natural Resources Division, U...</td>\n",
              "      <td>United States Attorney Office Middle District ...</td>\n",
              "    </tr>\n",
              "    <tr>\n",
              "      <th>22</th>\n",
              "      <td>15-1562</td>\n",
              "      <td>21st Century Oncology to Pay $19.75 Million to...</td>\n",
              "      <td>21st Century Oncology LLC, has agreed to pay $...</td>\n",
              "      <td>2015-12-18T00:00:00-05:00</td>\n",
              "      <td>[False Claims Act, Health Care Fraud]</td>\n",
              "      <td>[Civil Division]</td>\n",
              "      <td>21st Century Oncology LLC agreed pay $ 19.75 m...</td>\n",
              "    </tr>\n",
              "    <tr>\n",
              "      <th>23</th>\n",
              "      <td>17-1404</td>\n",
              "      <td>21st Century Oncology to Pay $26 Million to Se...</td>\n",
              "      <td>21st Century Oncology Inc. and certain of its ...</td>\n",
              "      <td>2017-12-12T00:00:00-05:00</td>\n",
              "      <td>[Health Care Fraud, False Claims Act]</td>\n",
              "      <td>[Civil Division, USAO - Florida, Middle]</td>\n",
              "      <td>21st Century Oncology Inc. certain subsidiarie...</td>\n",
              "    </tr>\n",
              "    <tr>\n",
              "      <th>...</th>\n",
              "      <td>...</td>\n",
              "      <td>...</td>\n",
              "      <td>...</td>\n",
              "      <td>...</td>\n",
              "      <td>...</td>\n",
              "      <td>...</td>\n",
              "      <td>...</td>\n",
              "    </tr>\n",
              "    <tr>\n",
              "      <th>316</th>\n",
              "      <td>15-1359</td>\n",
              "      <td>Alaska Plastic Surgeon Convicted of Wire Fraud...</td>\n",
              "      <td>Doctor Hid Millions in Secret Accounts in Pana...</td>\n",
              "      <td>2015-11-04T00:00:00-05:00</td>\n",
              "      <td>[Tax]</td>\n",
              "      <td>[Tax Division]</td>\n",
              "      <td>Doctor Hid Millions Secret Accounts Panama Ala...</td>\n",
              "    </tr>\n",
              "    <tr>\n",
              "      <th>318</th>\n",
              "      <td>16-396</td>\n",
              "      <td>Alaska Plastic Surgeon Sentenced to Prison for...</td>\n",
              "      <td>Defendant Concealed Bank Accounts in Panama an...</td>\n",
              "      <td>2016-04-04T00:00:00-04:00</td>\n",
              "      <td>[Tax]</td>\n",
              "      <td>[Tax Division]</td>\n",
              "      <td>Defendant Concealed Bank Accounts Panama Costa...</td>\n",
              "    </tr>\n",
              "    <tr>\n",
              "      <th>321</th>\n",
              "      <td>17-736</td>\n",
              "      <td>Alaskan Commercial Fishing Couple Charged with...</td>\n",
              "      <td>An Alaskan couple was charged in federal court...</td>\n",
              "      <td>2017-07-26T00:00:00-04:00</td>\n",
              "      <td>[Tax]</td>\n",
              "      <td>[Tax Division, USAO - Alaska]</td>\n",
              "      <td>Alaskan couple charged federal court Juneau Al...</td>\n",
              "    </tr>\n",
              "    <tr>\n",
              "      <th>322</th>\n",
              "      <td>18-717</td>\n",
              "      <td>Alaskan Husband And Wife Plead Guilty To Willf...</td>\n",
              "      <td>A husband and wife pleaded guilty yesterday to...</td>\n",
              "      <td>2018-06-01T00:00:00-04:00</td>\n",
              "      <td>[Tax]</td>\n",
              "      <td>[Tax Division]</td>\n",
              "      <td>husband wife pleaded guilty yesterday counts w...</td>\n",
              "    </tr>\n",
              "    <tr>\n",
              "      <th>324</th>\n",
              "      <td>16-1345</td>\n",
              "      <td>Alaskan Oncologist Indicted for Tax Evasion</td>\n",
              "      <td>A resident of Big Lake, Alaska was indicted on...</td>\n",
              "      <td>2016-11-17T00:00:00-05:00</td>\n",
              "      <td>[Tax]</td>\n",
              "      <td>[Tax Division]</td>\n",
              "      <td>resident Big Lake Alaska indicted counts tax e...</td>\n",
              "    </tr>\n",
              "  </tbody>\n",
              "</table>\n",
              "<p>100 rows × 7 columns</p>\n",
              "</div>\n",
              "      <button class=\"colab-df-convert\" onclick=\"convertToInteractive('df-6fc5fa9f-b90e-476c-8809-e0e63a9ecb04')\"\n",
              "              title=\"Convert this dataframe to an interactive table.\"\n",
              "              style=\"display:none;\">\n",
              "        \n",
              "  <svg xmlns=\"http://www.w3.org/2000/svg\" height=\"24px\"viewBox=\"0 0 24 24\"\n",
              "       width=\"24px\">\n",
              "    <path d=\"M0 0h24v24H0V0z\" fill=\"none\"/>\n",
              "    <path d=\"M18.56 5.44l.94 2.06.94-2.06 2.06-.94-2.06-.94-.94-2.06-.94 2.06-2.06.94zm-11 1L8.5 8.5l.94-2.06 2.06-.94-2.06-.94L8.5 2.5l-.94 2.06-2.06.94zm10 10l.94 2.06.94-2.06 2.06-.94-2.06-.94-.94-2.06-.94 2.06-2.06.94z\"/><path d=\"M17.41 7.96l-1.37-1.37c-.4-.4-.92-.59-1.43-.59-.52 0-1.04.2-1.43.59L10.3 9.45l-7.72 7.72c-.78.78-.78 2.05 0 2.83L4 21.41c.39.39.9.59 1.41.59.51 0 1.02-.2 1.41-.59l7.78-7.78 2.81-2.81c.8-.78.8-2.07 0-2.86zM5.41 20L4 18.59l7.72-7.72 1.47 1.35L5.41 20z\"/>\n",
              "  </svg>\n",
              "      </button>\n",
              "      \n",
              "  <style>\n",
              "    .colab-df-container {\n",
              "      display:flex;\n",
              "      flex-wrap:wrap;\n",
              "      gap: 12px;\n",
              "    }\n",
              "\n",
              "    .colab-df-convert {\n",
              "      background-color: #E8F0FE;\n",
              "      border: none;\n",
              "      border-radius: 50%;\n",
              "      cursor: pointer;\n",
              "      display: none;\n",
              "      fill: #1967D2;\n",
              "      height: 32px;\n",
              "      padding: 0 0 0 0;\n",
              "      width: 32px;\n",
              "    }\n",
              "\n",
              "    .colab-df-convert:hover {\n",
              "      background-color: #E2EBFA;\n",
              "      box-shadow: 0px 1px 2px rgba(60, 64, 67, 0.3), 0px 1px 3px 1px rgba(60, 64, 67, 0.15);\n",
              "      fill: #174EA6;\n",
              "    }\n",
              "\n",
              "    [theme=dark] .colab-df-convert {\n",
              "      background-color: #3B4455;\n",
              "      fill: #D2E3FC;\n",
              "    }\n",
              "\n",
              "    [theme=dark] .colab-df-convert:hover {\n",
              "      background-color: #434B5C;\n",
              "      box-shadow: 0px 1px 3px 1px rgba(0, 0, 0, 0.15);\n",
              "      filter: drop-shadow(0px 1px 2px rgba(0, 0, 0, 0.3));\n",
              "      fill: #FFFFFF;\n",
              "    }\n",
              "  </style>\n",
              "\n",
              "      <script>\n",
              "        const buttonEl =\n",
              "          document.querySelector('#df-6fc5fa9f-b90e-476c-8809-e0e63a9ecb04 button.colab-df-convert');\n",
              "        buttonEl.style.display =\n",
              "          google.colab.kernel.accessAllowed ? 'block' : 'none';\n",
              "\n",
              "        async function convertToInteractive(key) {\n",
              "          const element = document.querySelector('#df-6fc5fa9f-b90e-476c-8809-e0e63a9ecb04');\n",
              "          const dataTable =\n",
              "            await google.colab.kernel.invokeFunction('convertToInteractive',\n",
              "                                                     [key], {});\n",
              "          if (!dataTable) return;\n",
              "\n",
              "          const docLinkHtml = 'Like what you see? Visit the ' +\n",
              "            '<a target=\"_blank\" href=https://colab.research.google.com/notebooks/data_table.ipynb>data table notebook</a>'\n",
              "            + ' to learn more about interactive tables.';\n",
              "          element.innerHTML = '';\n",
              "          dataTable['output_type'] = 'display_data';\n",
              "          await google.colab.output.renderOutput(dataTable, element);\n",
              "          const docLink = document.createElement('div');\n",
              "          docLink.innerHTML = docLinkHtml;\n",
              "          element.appendChild(docLink);\n",
              "        }\n",
              "      </script>\n",
              "    </div>\n",
              "  </div>\n",
              "  "
            ]
          },
          "metadata": {},
          "execution_count": 31
        }
      ]
    },
    {
      "cell_type": "code",
      "source": [
        "len(df.contents[4])"
      ],
      "metadata": {
        "colab": {
          "base_uri": "https://localhost:8080/"
        },
        "id": "wGxajWvyVeg-",
        "outputId": "da101274-5f2f-43f2-c11f-506b17411b5f"
      },
      "execution_count": null,
      "outputs": [
        {
          "output_type": "execute_result",
          "data": {
            "text/plain": [
              "6286"
            ]
          },
          "metadata": {},
          "execution_count": 32
        }
      ]
    },
    {
      "cell_type": "code",
      "source": [
        "len(df.contents_new[4])"
      ],
      "metadata": {
        "colab": {
          "base_uri": "https://localhost:8080/"
        },
        "id": "TUS9ywMLVjp8",
        "outputId": "a3ac3f8e-feff-4636-85c1-f2016dfb84a4"
      },
      "execution_count": null,
      "outputs": [
        {
          "output_type": "execute_result",
          "data": {
            "text/plain": [
              "4574"
            ]
          },
          "metadata": {},
          "execution_count": 33
        }
      ]
    },
    {
      "cell_type": "code",
      "source": [
        "df.contents[4][:300]"
      ],
      "metadata": {
        "colab": {
          "base_uri": "https://localhost:8080/",
          "height": 90
        },
        "id": "Gl2tca0IVoO2",
        "outputId": "56c900b7-3748-40f4-f583-58fbb4a3c4b7"
      },
      "execution_count": null,
      "outputs": [
        {
          "output_type": "execute_result",
          "data": {
            "text/plain": [
              "'The U.S. Department of Justice, the U.S. Environmental Protection Agency (EPA), and the Rhode Island Department of Environmental Management (RIDEM) announced today that two subsidiaries of Stanley Black & Decker Inc.—Emhart Industries Inc. and Black & Decker Inc.—have agreed to clean up dioxin conta'"
            ],
            "application/vnd.google.colaboratory.intrinsic+json": {
              "type": "string"
            }
          },
          "metadata": {},
          "execution_count": 34
        }
      ]
    },
    {
      "cell_type": "code",
      "source": [
        "df.contents_new[4][:300]"
      ],
      "metadata": {
        "colab": {
          "base_uri": "https://localhost:8080/",
          "height": 90
        },
        "id": "1LoYm-RfV4oe",
        "outputId": "6566bbe7-fb27-42e2-c1da-2551c6511b84"
      },
      "execution_count": null,
      "outputs": [
        {
          "output_type": "execute_result",
          "data": {
            "text/plain": [
              "'U.S. Department Justice U.S. Environmental Protection Agency EPA Rhode Island Department Environmental Management RIDEM announced today subsidiaries Stanley Black Decker Inc.—Emhart Industries Inc. Black Decker Inc.—have agreed clean dioxin contaminated sediment soil Centredale Manor Restoration Pro'"
            ],
            "application/vnd.google.colaboratory.intrinsic+json": {
              "type": "string"
            }
          },
          "metadata": {},
          "execution_count": 35
        }
      ]
    },
    {
      "cell_type": "markdown",
      "source": [
        "Examples where removing stop words can create a problem\n",
        "\n",
        "\n",
        "(1) Sentiment detection: Not always but in some cases, based on your dataset it can change the sentiment of a sentence if you remove stop words"
      ],
      "metadata": {
        "id": "lIv_LPLzWilN"
      }
    },
    {
      "cell_type": "code",
      "source": [
        "preprocess(\"this is good movie\")"
      ],
      "metadata": {
        "colab": {
          "base_uri": "https://localhost:8080/",
          "height": 36
        },
        "id": "gQihUke-WWGe",
        "outputId": "dd0270b9-7b24-4b0f-b69b-38b5b393b338"
      },
      "execution_count": null,
      "outputs": [
        {
          "output_type": "execute_result",
          "data": {
            "text/plain": [
              "'good movie'"
            ],
            "application/vnd.google.colaboratory.intrinsic+json": {
              "type": "string"
            }
          },
          "metadata": {},
          "execution_count": 36
        }
      ]
    },
    {
      "cell_type": "code",
      "source": [
        "preprocess(\"this is not a good movie\")"
      ],
      "metadata": {
        "colab": {
          "base_uri": "https://localhost:8080/",
          "height": 36
        },
        "id": "V3msa0X7WuUO",
        "outputId": "48816575-9158-4df6-d3cf-7a9b005df811"
      },
      "execution_count": null,
      "outputs": [
        {
          "output_type": "execute_result",
          "data": {
            "text/plain": [
              "'good movie'"
            ],
            "application/vnd.google.colaboratory.intrinsic+json": {
              "type": "string"
            }
          },
          "metadata": {},
          "execution_count": 37
        }
      ]
    },
    {
      "cell_type": "markdown",
      "source": [
        "(2) Language translation: Say you want to translate following sentence from english to telugu. Before actual translation if you remove stop words and then translate, it will produce horrible result"
      ],
      "metadata": {
        "id": "J08QitzRW0os"
      }
    },
    {
      "cell_type": "code",
      "source": [
        "preprocess(\"how are you doing dhaval?\")"
      ],
      "metadata": {
        "colab": {
          "base_uri": "https://localhost:8080/",
          "height": 36
        },
        "id": "kUzstKWPWz-9",
        "outputId": "ecef8101-c914-4a85-86a7-d922676131d0"
      },
      "execution_count": null,
      "outputs": [
        {
          "output_type": "execute_result",
          "data": {
            "text/plain": [
              "'dhaval'"
            ],
            "application/vnd.google.colaboratory.intrinsic+json": {
              "type": "string"
            }
          },
          "metadata": {},
          "execution_count": 38
        }
      ]
    },
    {
      "cell_type": "markdown",
      "source": [
        "(3) Chat bot or any Q&A system"
      ],
      "metadata": {
        "id": "7ZS4VWOxXEiv"
      }
    },
    {
      "cell_type": "code",
      "source": [
        "preprocess(\"I don't find yoga mat on your website. Can you help?\")"
      ],
      "metadata": {
        "colab": {
          "base_uri": "https://localhost:8080/",
          "height": 36
        },
        "id": "C1d3ihlQXEMl",
        "outputId": "bf49190c-d148-46a6-d796-037917a6a9de"
      },
      "execution_count": null,
      "outputs": [
        {
          "output_type": "execute_result",
          "data": {
            "text/plain": [
              "'find yoga mat website help'"
            ],
            "application/vnd.google.colaboratory.intrinsic+json": {
              "type": "string"
            }
          },
          "metadata": {},
          "execution_count": 39
        }
      ]
    }
  ]
}