{
  "cells": [
    {
      "cell_type": "markdown",
      "metadata": {
        "id": "CPo0t7J1R5_L"
      },
      "source": [
        "# IMPORTING NECESSARY MODULES"
      ]
    },
    {
      "cell_type": "code",
      "execution_count": null,
      "metadata": {
        "_cell_guid": "b1076dfc-b9ad-4769-8c92-a6c4dae69d19",
        "_uuid": "8f2839f25d086af736a60e9eeb907d3b93b6e0e5",
        "execution": {
          "iopub.execute_input": "2021-03-13T16:27:39.217519Z",
          "iopub.status.busy": "2021-03-13T16:27:39.216547Z",
          "iopub.status.idle": "2021-03-13T16:27:39.234404Z",
          "shell.execute_reply": "2021-03-13T16:27:39.235238Z"
        },
        "papermill": {
          "duration": 0.035859,
          "end_time": "2021-03-13T16:27:39.235853",
          "exception": false,
          "start_time": "2021-03-13T16:27:39.199994",
          "status": "completed"
        },
        "tags": [],
        "id": "Kr4PHkn2R5_O"
      },
      "outputs": [],
      "source": [
        "import numpy as np # linear algebra\n",
        "import pandas as pd # data processing, CSV file I/O (e.g. pd.read_csv)\n",
        "import matplotlib.pyplot as plt  #For Visualisation\n",
        "%matplotlib inline\n",
        "import seaborn as sns  #For Visualisation\n",
        "from bs4 import BeautifulSoup  # For Text Parsing"
      ]
    },
    {
      "cell_type": "markdown",
      "metadata": {
        "id": "u7rujXl-R5_Q"
      },
      "source": [
        "# IMPORTING DATASET"
      ]
    },
    {
      "cell_type": "code",
      "execution_count": null,
      "metadata": {
        "execution": {
          "iopub.execute_input": "2021-03-13T16:27:39.271093Z",
          "iopub.status.busy": "2021-03-13T16:27:39.270285Z",
          "iopub.status.idle": "2021-03-13T16:27:47.294167Z",
          "shell.execute_reply": "2021-03-13T16:27:47.293549Z"
        },
        "papermill": {
          "duration": 8.043911,
          "end_time": "2021-03-13T16:27:47.294319",
          "exception": false,
          "start_time": "2021-03-13T16:27:39.250408",
          "status": "completed"
        },
        "scrolled": true,
        "tags": [],
        "id": "f8p1mEqeR5_Q",
        "outputId": "7244644c-5f44-460e-ebd9-32ecf8028ff9"
      },
      "outputs": [
        {
          "data": {
            "text/html": [
              "<div>\n",
              "<style scoped>\n",
              "    .dataframe tbody tr th:only-of-type {\n",
              "        vertical-align: middle;\n",
              "    }\n",
              "\n",
              "    .dataframe tbody tr th {\n",
              "        vertical-align: top;\n",
              "    }\n",
              "\n",
              "    .dataframe thead th {\n",
              "        text-align: right;\n",
              "    }\n",
              "</style>\n",
              "<table border=\"1\" class=\"dataframe\">\n",
              "  <thead>\n",
              "    <tr style=\"text-align: right;\">\n",
              "      <th></th>\n",
              "      <th>Id</th>\n",
              "      <th>ProductId</th>\n",
              "      <th>UserId</th>\n",
              "      <th>ProfileName</th>\n",
              "      <th>HelpfulnessNumerator</th>\n",
              "      <th>HelpfulnessDenominator</th>\n",
              "      <th>Score</th>\n",
              "      <th>Time</th>\n",
              "      <th>Summary</th>\n",
              "      <th>Text</th>\n",
              "    </tr>\n",
              "  </thead>\n",
              "  <tbody>\n",
              "    <tr>\n",
              "      <th>0</th>\n",
              "      <td>1</td>\n",
              "      <td>B001E4KFG0</td>\n",
              "      <td>A3SGXH7AUHU8GW</td>\n",
              "      <td>delmartian</td>\n",
              "      <td>1</td>\n",
              "      <td>1</td>\n",
              "      <td>5</td>\n",
              "      <td>1303862400</td>\n",
              "      <td>Good Quality Dog Food</td>\n",
              "      <td>I have bought several of the Vitality canned d...</td>\n",
              "    </tr>\n",
              "    <tr>\n",
              "      <th>1</th>\n",
              "      <td>2</td>\n",
              "      <td>B00813GRG4</td>\n",
              "      <td>A1D87F6ZCVE5NK</td>\n",
              "      <td>dll pa</td>\n",
              "      <td>0</td>\n",
              "      <td>0</td>\n",
              "      <td>1</td>\n",
              "      <td>1346976000</td>\n",
              "      <td>Not as Advertised</td>\n",
              "      <td>Product arrived labeled as Jumbo Salted Peanut...</td>\n",
              "    </tr>\n",
              "    <tr>\n",
              "      <th>2</th>\n",
              "      <td>3</td>\n",
              "      <td>B000LQOCH0</td>\n",
              "      <td>ABXLMWJIXXAIN</td>\n",
              "      <td>Natalia Corres \"Natalia Corres\"</td>\n",
              "      <td>1</td>\n",
              "      <td>1</td>\n",
              "      <td>4</td>\n",
              "      <td>1219017600</td>\n",
              "      <td>\"Delight\" says it all</td>\n",
              "      <td>This is a confection that has been around a fe...</td>\n",
              "    </tr>\n",
              "    <tr>\n",
              "      <th>3</th>\n",
              "      <td>4</td>\n",
              "      <td>B000UA0QIQ</td>\n",
              "      <td>A395BORC6FGVXV</td>\n",
              "      <td>Karl</td>\n",
              "      <td>3</td>\n",
              "      <td>3</td>\n",
              "      <td>2</td>\n",
              "      <td>1307923200</td>\n",
              "      <td>Cough Medicine</td>\n",
              "      <td>If you are looking for the secret ingredient i...</td>\n",
              "    </tr>\n",
              "    <tr>\n",
              "      <th>4</th>\n",
              "      <td>5</td>\n",
              "      <td>B006K2ZZ7K</td>\n",
              "      <td>A1UQRSCLF8GW1T</td>\n",
              "      <td>Michael D. Bigham \"M. Wassir\"</td>\n",
              "      <td>0</td>\n",
              "      <td>0</td>\n",
              "      <td>5</td>\n",
              "      <td>1350777600</td>\n",
              "      <td>Great taffy</td>\n",
              "      <td>Great taffy at a great price.  There was a wid...</td>\n",
              "    </tr>\n",
              "    <tr>\n",
              "      <th>...</th>\n",
              "      <td>...</td>\n",
              "      <td>...</td>\n",
              "      <td>...</td>\n",
              "      <td>...</td>\n",
              "      <td>...</td>\n",
              "      <td>...</td>\n",
              "      <td>...</td>\n",
              "      <td>...</td>\n",
              "      <td>...</td>\n",
              "      <td>...</td>\n",
              "    </tr>\n",
              "    <tr>\n",
              "      <th>568449</th>\n",
              "      <td>568450</td>\n",
              "      <td>B001EO7N10</td>\n",
              "      <td>A28KG5XORO54AY</td>\n",
              "      <td>Lettie D. Carter</td>\n",
              "      <td>0</td>\n",
              "      <td>0</td>\n",
              "      <td>5</td>\n",
              "      <td>1299628800</td>\n",
              "      <td>Will not do without</td>\n",
              "      <td>Great for sesame chicken..this is a good if no...</td>\n",
              "    </tr>\n",
              "    <tr>\n",
              "      <th>568450</th>\n",
              "      <td>568451</td>\n",
              "      <td>B003S1WTCU</td>\n",
              "      <td>A3I8AFVPEE8KI5</td>\n",
              "      <td>R. Sawyer</td>\n",
              "      <td>0</td>\n",
              "      <td>0</td>\n",
              "      <td>2</td>\n",
              "      <td>1331251200</td>\n",
              "      <td>disappointed</td>\n",
              "      <td>I'm disappointed with the flavor. The chocolat...</td>\n",
              "    </tr>\n",
              "    <tr>\n",
              "      <th>568451</th>\n",
              "      <td>568452</td>\n",
              "      <td>B004I613EE</td>\n",
              "      <td>A121AA1GQV751Z</td>\n",
              "      <td>pksd \"pk_007\"</td>\n",
              "      <td>2</td>\n",
              "      <td>2</td>\n",
              "      <td>5</td>\n",
              "      <td>1329782400</td>\n",
              "      <td>Perfect for our maltipoo</td>\n",
              "      <td>These stars are small, so you can give 10-15 o...</td>\n",
              "    </tr>\n",
              "    <tr>\n",
              "      <th>568452</th>\n",
              "      <td>568453</td>\n",
              "      <td>B004I613EE</td>\n",
              "      <td>A3IBEVCTXKNOH</td>\n",
              "      <td>Kathy A. Welch \"katwel\"</td>\n",
              "      <td>1</td>\n",
              "      <td>1</td>\n",
              "      <td>5</td>\n",
              "      <td>1331596800</td>\n",
              "      <td>Favorite Training and reward treat</td>\n",
              "      <td>These are the BEST treats for training and rew...</td>\n",
              "    </tr>\n",
              "    <tr>\n",
              "      <th>568453</th>\n",
              "      <td>568454</td>\n",
              "      <td>B001LR2CU2</td>\n",
              "      <td>A3LGQPJCZVL9UC</td>\n",
              "      <td>srfell17</td>\n",
              "      <td>0</td>\n",
              "      <td>0</td>\n",
              "      <td>5</td>\n",
              "      <td>1338422400</td>\n",
              "      <td>Great Honey</td>\n",
              "      <td>I am very satisfied ,product is as advertised,...</td>\n",
              "    </tr>\n",
              "  </tbody>\n",
              "</table>\n",
              "<p>568454 rows × 10 columns</p>\n",
              "</div>"
            ],
            "text/plain": [
              "            Id   ProductId          UserId                      ProfileName  \\\n",
              "0            1  B001E4KFG0  A3SGXH7AUHU8GW                       delmartian   \n",
              "1            2  B00813GRG4  A1D87F6ZCVE5NK                           dll pa   \n",
              "2            3  B000LQOCH0   ABXLMWJIXXAIN  Natalia Corres \"Natalia Corres\"   \n",
              "3            4  B000UA0QIQ  A395BORC6FGVXV                             Karl   \n",
              "4            5  B006K2ZZ7K  A1UQRSCLF8GW1T    Michael D. Bigham \"M. Wassir\"   \n",
              "...        ...         ...             ...                              ...   \n",
              "568449  568450  B001EO7N10  A28KG5XORO54AY                 Lettie D. Carter   \n",
              "568450  568451  B003S1WTCU  A3I8AFVPEE8KI5                        R. Sawyer   \n",
              "568451  568452  B004I613EE  A121AA1GQV751Z                    pksd \"pk_007\"   \n",
              "568452  568453  B004I613EE   A3IBEVCTXKNOH          Kathy A. Welch \"katwel\"   \n",
              "568453  568454  B001LR2CU2  A3LGQPJCZVL9UC                         srfell17   \n",
              "\n",
              "        HelpfulnessNumerator  HelpfulnessDenominator  Score        Time  \\\n",
              "0                          1                       1      5  1303862400   \n",
              "1                          0                       0      1  1346976000   \n",
              "2                          1                       1      4  1219017600   \n",
              "3                          3                       3      2  1307923200   \n",
              "4                          0                       0      5  1350777600   \n",
              "...                      ...                     ...    ...         ...   \n",
              "568449                     0                       0      5  1299628800   \n",
              "568450                     0                       0      2  1331251200   \n",
              "568451                     2                       2      5  1329782400   \n",
              "568452                     1                       1      5  1331596800   \n",
              "568453                     0                       0      5  1338422400   \n",
              "\n",
              "                                   Summary  \\\n",
              "0                    Good Quality Dog Food   \n",
              "1                        Not as Advertised   \n",
              "2                    \"Delight\" says it all   \n",
              "3                           Cough Medicine   \n",
              "4                              Great taffy   \n",
              "...                                    ...   \n",
              "568449                 Will not do without   \n",
              "568450                        disappointed   \n",
              "568451            Perfect for our maltipoo   \n",
              "568452  Favorite Training and reward treat   \n",
              "568453                         Great Honey   \n",
              "\n",
              "                                                     Text  \n",
              "0       I have bought several of the Vitality canned d...  \n",
              "1       Product arrived labeled as Jumbo Salted Peanut...  \n",
              "2       This is a confection that has been around a fe...  \n",
              "3       If you are looking for the secret ingredient i...  \n",
              "4       Great taffy at a great price.  There was a wid...  \n",
              "...                                                   ...  \n",
              "568449  Great for sesame chicken..this is a good if no...  \n",
              "568450  I'm disappointed with the flavor. The chocolat...  \n",
              "568451  These stars are small, so you can give 10-15 o...  \n",
              "568452  These are the BEST treats for training and rew...  \n",
              "568453  I am very satisfied ,product is as advertised,...  \n",
              "\n",
              "[568454 rows x 10 columns]"
            ]
          },
          "execution_count": 2,
          "metadata": {},
          "output_type": "execute_result"
        }
      ],
      "source": [
        "data = pd.read_csv('Reviews.csv')\n",
        "data"
      ]
    },
    {
      "cell_type": "markdown",
      "metadata": {
        "id": "YJyeHV3pR5_R"
      },
      "source": [
        "# DATA PREPROCESSING & VISUALISATION"
      ]
    },
    {
      "cell_type": "code",
      "execution_count": null,
      "metadata": {
        "execution": {
          "iopub.execute_input": "2021-03-13T16:27:47.637700Z",
          "iopub.status.busy": "2021-03-13T16:27:47.324855Z",
          "iopub.status.idle": "2021-03-13T16:27:47.652536Z",
          "shell.execute_reply": "2021-03-13T16:27:47.651955Z"
        },
        "papermill": {
          "duration": 0.34554,
          "end_time": "2021-03-13T16:27:47.652678",
          "exception": false,
          "start_time": "2021-03-13T16:27:47.307138",
          "status": "completed"
        },
        "tags": [],
        "id": "zfWRRctER5_S",
        "outputId": "c96bdf67-03e6-413b-def1-78fa7a22dee1"
      },
      "outputs": [
        {
          "data": {
            "text/plain": [
              "Id                         0\n",
              "ProductId                  0\n",
              "UserId                     0\n",
              "ProfileName               16\n",
              "HelpfulnessNumerator       0\n",
              "HelpfulnessDenominator     0\n",
              "Score                      0\n",
              "Time                       0\n",
              "Summary                   27\n",
              "Text                       0\n",
              "dtype: int64"
            ]
          },
          "execution_count": 3,
          "metadata": {},
          "output_type": "execute_result"
        }
      ],
      "source": [
        "data.isnull().sum()"
      ]
    },
    {
      "cell_type": "code",
      "execution_count": null,
      "metadata": {
        "execution": {
          "iopub.execute_input": "2021-03-13T16:27:48.002053Z",
          "iopub.status.busy": "2021-03-13T16:27:47.684503Z",
          "iopub.status.idle": "2021-03-13T16:27:48.435326Z",
          "shell.execute_reply": "2021-03-13T16:27:48.434615Z"
        },
        "papermill": {
          "duration": 0.769449,
          "end_time": "2021-03-13T16:27:48.435483",
          "exception": false,
          "start_time": "2021-03-13T16:27:47.666034",
          "status": "completed"
        },
        "tags": [],
        "id": "UqD71lpdR5_S",
        "outputId": "df16d363-fbe1-4a9b-826a-f396721e697f"
      },
      "outputs": [
        {
          "data": {
            "text/plain": [
              "Id                        0\n",
              "ProductId                 0\n",
              "UserId                    0\n",
              "ProfileName               0\n",
              "HelpfulnessNumerator      0\n",
              "HelpfulnessDenominator    0\n",
              "Score                     0\n",
              "Time                      0\n",
              "Summary                   0\n",
              "Text                      0\n",
              "dtype: int64"
            ]
          },
          "execution_count": 4,
          "metadata": {},
          "output_type": "execute_result"
        }
      ],
      "source": [
        "data=data.dropna()\n",
        "data.isnull().sum()"
      ]
    },
    {
      "cell_type": "code",
      "execution_count": null,
      "metadata": {
        "scrolled": true,
        "id": "nDu1vnsfR5_T",
        "outputId": "f7bfe97e-37b6-4b3f-9cf4-1a73a8f10837"
      },
      "outputs": [
        {
          "data": {
            "text/plain": [
              "(568411, 10)"
            ]
          },
          "execution_count": 5,
          "metadata": {},
          "output_type": "execute_result"
        }
      ],
      "source": [
        "data.shape"
      ]
    },
    {
      "cell_type": "code",
      "execution_count": null,
      "metadata": {
        "id": "5-RKcPgvR5_T",
        "outputId": "41181254-0b2b-4baf-82be-2e066223ead7"
      },
      "outputs": [
        {
          "name": "stdout",
          "output_type": "stream",
          "text": [
            "[5 1 4 2 3]\n"
          ]
        }
      ],
      "source": [
        "score_unique = data['Score'].unique()\n",
        "print(score_unique)"
      ]
    },
    {
      "cell_type": "code",
      "execution_count": null,
      "metadata": {
        "execution": {
          "iopub.execute_input": "2021-03-13T16:27:48.506192Z",
          "iopub.status.busy": "2021-03-13T16:27:48.501015Z",
          "iopub.status.idle": "2021-03-13T16:27:48.704122Z",
          "shell.execute_reply": "2021-03-13T16:27:48.703473Z"
        },
        "papermill": {
          "duration": 0.253989,
          "end_time": "2021-03-13T16:27:48.704263",
          "exception": false,
          "start_time": "2021-03-13T16:27:48.450274",
          "status": "completed"
        },
        "tags": [],
        "id": "T2chb2ZuR5_U"
      },
      "outputs": [],
      "source": [
        "#   0-> NEGATIVE REVIEW\n",
        "#   1-> NEUTRAL REVIEW\n",
        "#   2-> POSTIVE REVIEW\n",
        "a=[]\n",
        "for i in data['Score']:\n",
        "    if i <3:\n",
        "        a.append(0)\n",
        "    if i==3:\n",
        "        a.append(1)\n",
        "    if i>3:\n",
        "        a.append(2)"
      ]
    },
    {
      "cell_type": "code",
      "execution_count": null,
      "metadata": {
        "id": "QEiKa1xdR5_U",
        "outputId": "55e32fd1-adcb-4769-c948-6be5c00a6e29"
      },
      "outputs": [
        {
          "name": "stdout",
          "output_type": "stream",
          "text": [
            "Negative Reviews: 82007\n",
            "Neutral Reviews: 42638\n",
            "Positive Reviews: 443766\n"
          ]
        }
      ],
      "source": [
        "r_0, r_1, r_2 = 0, 0, 0\n",
        "for i in a:\n",
        "    if i == 0:\n",
        "        r_0 += 1\n",
        "    elif i == 1:\n",
        "        r_1 += 1\n",
        "    else:\n",
        "        r_2 += 1\n",
        "\n",
        "print('Negative Reviews:',r_0)\n",
        "print('Neutral Reviews:',r_1)\n",
        "print('Positive Reviews:',r_2)"
      ]
    },
    {
      "cell_type": "code",
      "execution_count": null,
      "metadata": {
        "execution": {
          "iopub.execute_input": "2021-03-13T16:27:48.738843Z",
          "iopub.status.busy": "2021-03-13T16:27:48.738209Z",
          "iopub.status.idle": "2021-03-13T16:27:52.191203Z",
          "shell.execute_reply": "2021-03-13T16:27:52.190555Z"
        },
        "papermill": {
          "duration": 3.472218,
          "end_time": "2021-03-13T16:27:52.191341",
          "exception": false,
          "start_time": "2021-03-13T16:27:48.719123",
          "status": "completed"
        },
        "tags": [],
        "id": "slEtdMMpR5_V",
        "outputId": "56e329a5-1ac3-47b0-f89d-979fd9e0b64a"
      },
      "outputs": [
        {
          "name": "stderr",
          "output_type": "stream",
          "text": [
            "C:\\Users\\Sriniketh J\\anaconda3\\lib\\site-packages\\seaborn\\_decorators.py:36: FutureWarning: Pass the following variable as a keyword arg: x. From version 0.12, the only valid positional argument will be `data`, and passing other arguments without an explicit keyword will result in an error or misinterpretation.\n",
            "  warnings.warn(\n"
          ]
        },
        {
          "data": {
            "image/png": "[encoded data removed]",
            "text/plain": [
              "<Figure size 432x288 with 1 Axes>"
            ]
          },
          "metadata": {
            "needs_background": "light"
          },
          "output_type": "display_data"
        }
      ],
      "source": [
        "sns.countplot(a)\n",
        "plt.xlabel('Reviews', color = 'red')\n",
        "plt.ylabel('Count', color = 'red')\n",
        "plt.xticks([0,1,2],['Negative','Neutral','Positive'])\n",
        "plt.title('COUNT PLOT', color = 'r')\n",
        "plt.show()"
      ]
    },
    {
      "cell_type": "code",
      "execution_count": null,
      "metadata": {
        "execution": {
          "iopub.execute_input": "2021-03-13T16:27:52.228983Z",
          "iopub.status.busy": "2021-03-13T16:27:52.228227Z",
          "iopub.status.idle": "2021-03-13T16:27:52.525964Z",
          "shell.execute_reply": "2021-03-13T16:27:52.525241Z"
        },
        "papermill": {
          "duration": 0.318919,
          "end_time": "2021-03-13T16:27:52.526112",
          "exception": false,
          "start_time": "2021-03-13T16:27:52.207193",
          "status": "completed"
        },
        "tags": [],
        "id": "-JiP8NrOR5_V",
        "outputId": "a9d6fe0b-fe52-4b58-fb48-7ce8eca58d5f"
      },
      "outputs": [
        {
          "name": "stderr",
          "output_type": "stream",
          "text": [
            "<ipython-input-10-1ac0dacbd7eb>:1: SettingWithCopyWarning: \n",
            "A value is trying to be set on a copy of a slice from a DataFrame.\n",
            "Try using .loc[row_indexer,col_indexer] = value instead\n",
            "\n",
            "See the caveats in the documentation: https://pandas.pydata.org/pandas-docs/stable/user_guide/indexing.html#returning-a-view-versus-a-copy\n",
            "  data['sentiment']=a\n"
          ]
        },
        {
          "data": {
            "text/html": [
              "<div>\n",
              "<style scoped>\n",
              "    .dataframe tbody tr th:only-of-type {\n",
              "        vertical-align: middle;\n",
              "    }\n",
              "\n",
              "    .dataframe tbody tr th {\n",
              "        vertical-align: top;\n",
              "    }\n",
              "\n",
              "    .dataframe thead th {\n",
              "        text-align: right;\n",
              "    }\n",
              "</style>\n",
              "<table border=\"1\" class=\"dataframe\">\n",
              "  <thead>\n",
              "    <tr style=\"text-align: right;\">\n",
              "      <th></th>\n",
              "      <th>Text</th>\n",
              "      <th>sentiment</th>\n",
              "    </tr>\n",
              "  </thead>\n",
              "  <tbody>\n",
              "    <tr>\n",
              "      <th>0</th>\n",
              "      <td>I have bought several of the Vitality canned d...</td>\n",
              "      <td>2</td>\n",
              "    </tr>\n",
              "    <tr>\n",
              "      <th>1</th>\n",
              "      <td>Product arrived labeled as Jumbo Salted Peanut...</td>\n",
              "      <td>0</td>\n",
              "    </tr>\n",
              "    <tr>\n",
              "      <th>2</th>\n",
              "      <td>This is a confection that has been around a fe...</td>\n",
              "      <td>2</td>\n",
              "    </tr>\n",
              "    <tr>\n",
              "      <th>3</th>\n",
              "      <td>If you are looking for the secret ingredient i...</td>\n",
              "      <td>0</td>\n",
              "    </tr>\n",
              "    <tr>\n",
              "      <th>4</th>\n",
              "      <td>Great taffy at a great price.  There was a wid...</td>\n",
              "      <td>2</td>\n",
              "    </tr>\n",
              "    <tr>\n",
              "      <th>...</th>\n",
              "      <td>...</td>\n",
              "      <td>...</td>\n",
              "    </tr>\n",
              "    <tr>\n",
              "      <th>568449</th>\n",
              "      <td>Great for sesame chicken..this is a good if no...</td>\n",
              "      <td>2</td>\n",
              "    </tr>\n",
              "    <tr>\n",
              "      <th>568450</th>\n",
              "      <td>I'm disappointed with the flavor. The chocolat...</td>\n",
              "      <td>0</td>\n",
              "    </tr>\n",
              "    <tr>\n",
              "      <th>568451</th>\n",
              "      <td>These stars are small, so you can give 10-15 o...</td>\n",
              "      <td>2</td>\n",
              "    </tr>\n",
              "    <tr>\n",
              "      <th>568452</th>\n",
              "      <td>These are the BEST treats for training and rew...</td>\n",
              "      <td>2</td>\n",
              "    </tr>\n",
              "    <tr>\n",
              "      <th>568453</th>\n",
              "      <td>I am very satisfied ,product is as advertised,...</td>\n",
              "      <td>2</td>\n",
              "    </tr>\n",
              "  </tbody>\n",
              "</table>\n",
              "<p>568411 rows × 2 columns</p>\n",
              "</div>"
            ],
            "text/plain": [
              "                                                     Text  sentiment\n",
              "0       I have bought several of the Vitality canned d...          2\n",
              "1       Product arrived labeled as Jumbo Salted Peanut...          0\n",
              "2       This is a confection that has been around a fe...          2\n",
              "3       If you are looking for the secret ingredient i...          0\n",
              "4       Great taffy at a great price.  There was a wid...          2\n",
              "...                                                   ...        ...\n",
              "568449  Great for sesame chicken..this is a good if no...          2\n",
              "568450  I'm disappointed with the flavor. The chocolat...          0\n",
              "568451  These stars are small, so you can give 10-15 o...          2\n",
              "568452  These are the BEST treats for training and rew...          2\n",
              "568453  I am very satisfied ,product is as advertised,...          2\n",
              "\n",
              "[568411 rows x 2 columns]"
            ]
          },
          "execution_count": 10,
          "metadata": {},
          "output_type": "execute_result"
        }
      ],
      "source": [
        "data['sentiment']=a\n",
        "#data\n",
        "final_dataset = data[['Text','sentiment']]\n",
        "final_dataset"
      ]
    },
    {
      "cell_type": "code",
      "execution_count": null,
      "metadata": {
        "execution": {
          "iopub.execute_input": "2021-03-13T16:27:52.564895Z",
          "iopub.status.busy": "2021-03-13T16:27:52.564247Z",
          "iopub.status.idle": "2021-03-13T16:27:52.602794Z",
          "shell.execute_reply": "2021-03-13T16:27:52.601774Z"
        },
        "papermill": {
          "duration": 0.06016,
          "end_time": "2021-03-13T16:27:52.602941",
          "exception": false,
          "start_time": "2021-03-13T16:27:52.542781",
          "status": "completed"
        },
        "tags": [],
        "id": "IMWLiAA6R5_V",
        "outputId": "3d2e47e9-6e55-44ea-e6dd-575bac2d54a8"
      },
      "outputs": [
        {
          "data": {
            "text/plain": [
              "(443766, 82007)"
            ]
          },
          "execution_count": 11,
          "metadata": {},
          "output_type": "execute_result"
        }
      ],
      "source": [
        "data_p=final_dataset[data['sentiment']==2]\n",
        "data_n=final_dataset[data['sentiment']==0]\n",
        "len(data_p), len(data_n)"
      ]
    },
    {
      "cell_type": "code",
      "execution_count": null,
      "metadata": {
        "execution": {
          "iopub.execute_input": "2021-03-13T16:27:52.645015Z",
          "iopub.status.busy": "2021-03-13T16:27:52.644154Z",
          "iopub.status.idle": "2021-03-13T16:27:52.653374Z",
          "shell.execute_reply": "2021-03-13T16:27:52.652758Z"
        },
        "papermill": {
          "duration": 0.034092,
          "end_time": "2021-03-13T16:27:52.653525",
          "exception": false,
          "start_time": "2021-03-13T16:27:52.619433",
          "status": "completed"
        },
        "tags": [],
        "id": "1EV2zc9hR5_V",
        "outputId": "401a180c-4a59-493b-b2c9-d723752f6e61"
      },
      "outputs": [
        {
          "data": {
            "text/plain": [
              "(5000, 5000)"
            ]
          },
          "execution_count": 12,
          "metadata": {},
          "output_type": "execute_result"
        }
      ],
      "source": [
        "datap = data_p.iloc[np.random.randint(1,443766,5000), :]\n",
        "datan = data_n.iloc[np.random.randint(1, 82007,5000), :]\n",
        "len(datan), len(datap)"
      ]
    },
    {
      "cell_type": "code",
      "execution_count": null,
      "metadata": {
        "execution": {
          "iopub.execute_input": "2021-03-13T16:27:52.718098Z",
          "iopub.status.busy": "2021-03-13T16:27:52.696002Z",
          "iopub.status.idle": "2021-03-13T16:27:52.722428Z",
          "shell.execute_reply": "2021-03-13T16:27:52.723006Z"
        },
        "papermill": {
          "duration": 0.052498,
          "end_time": "2021-03-13T16:27:52.723175",
          "exception": false,
          "start_time": "2021-03-13T16:27:52.670677",
          "status": "completed"
        },
        "tags": [],
        "id": "0BLgKU4WR5_W",
        "outputId": "4427ab14-a025-4394-877d-ed80284b7bf8"
      },
      "outputs": [
        {
          "data": {
            "text/plain": [
              "10000"
            ]
          },
          "execution_count": 13,
          "metadata": {},
          "output_type": "execute_result"
        }
      ],
      "source": [
        "data = pd.concat([datap,datan])\n",
        "len(data)"
      ]
    },
    {
      "cell_type": "code",
      "execution_count": null,
      "metadata": {
        "execution": {
          "iopub.execute_input": "2021-03-13T16:27:52.761247Z",
          "iopub.status.busy": "2021-03-13T16:27:52.760643Z",
          "iopub.status.idle": "2021-03-13T16:27:52.773854Z",
          "shell.execute_reply": "2021-03-13T16:27:52.774377Z"
        },
        "papermill": {
          "duration": 0.034064,
          "end_time": "2021-03-13T16:27:52.774563",
          "exception": false,
          "start_time": "2021-03-13T16:27:52.740499",
          "status": "completed"
        },
        "tags": [],
        "id": "3ueulsjeR5_W"
      },
      "outputs": [],
      "source": [
        "c=[]\n",
        "for i in data['sentiment']:\n",
        "    if i==0:\n",
        "        c.append(0)\n",
        "    if i==2:\n",
        "        c.append(1)\n",
        "data['sentiment']=c"
      ]
    },
    {
      "cell_type": "code",
      "execution_count": null,
      "metadata": {
        "execution": {
          "iopub.execute_input": "2021-03-13T16:27:52.813343Z",
          "iopub.status.busy": "2021-03-13T16:27:52.812696Z",
          "iopub.status.idle": "2021-03-13T16:27:52.931829Z",
          "shell.execute_reply": "2021-03-13T16:27:52.932370Z"
        },
        "papermill": {
          "duration": 0.140594,
          "end_time": "2021-03-13T16:27:52.932569",
          "exception": false,
          "start_time": "2021-03-13T16:27:52.791975",
          "status": "completed"
        },
        "scrolled": true,
        "tags": [],
        "id": "cwdVrHCNR5_W",
        "outputId": "aa682d5c-f35d-4150-a849-14c60fc2fdd8"
      },
      "outputs": [
        {
          "name": "stderr",
          "output_type": "stream",
          "text": [
            "C:\\Users\\Sriniketh J\\anaconda3\\lib\\site-packages\\seaborn\\_decorators.py:36: FutureWarning: Pass the following variable as a keyword arg: x. From version 0.12, the only valid positional argument will be `data`, and passing other arguments without an explicit keyword will result in an error or misinterpretation.\n",
            "  warnings.warn(\n"
          ]
        },
        {
          "data": {
            "image/png": "[encoded data removed]",
            "text/plain": [
              "<Figure size 432x288 with 1 Axes>"
            ]
          },
          "metadata": {
            "needs_background": "light"
          },
          "output_type": "display_data"
        }
      ],
      "source": [
        "sns.countplot(data['sentiment'])\n",
        "plt.show()"
      ]
    },
    {
      "cell_type": "code",
      "execution_count": null,
      "metadata": {
        "execution": {
          "iopub.execute_input": "2021-03-13T16:27:52.976139Z",
          "iopub.status.busy": "2021-03-13T16:27:52.975221Z",
          "iopub.status.idle": "2021-03-13T16:28:06.765174Z",
          "shell.execute_reply": "2021-03-13T16:28:06.764583Z"
        },
        "papermill": {
          "duration": 13.812836,
          "end_time": "2021-03-13T16:28:06.765326",
          "exception": false,
          "start_time": "2021-03-13T16:27:52.952490",
          "status": "completed"
        },
        "tags": [],
        "id": "daVfchJMR5_W",
        "outputId": "1188a24b-5961-4aa7-e321-f0a2fea40930"
      },
      "outputs": [
        {
          "data": {
            "text/html": [
              "<div>\n",
              "<style scoped>\n",
              "    .dataframe tbody tr th:only-of-type {\n",
              "        vertical-align: middle;\n",
              "    }\n",
              "\n",
              "    .dataframe tbody tr th {\n",
              "        vertical-align: top;\n",
              "    }\n",
              "\n",
              "    .dataframe thead th {\n",
              "        text-align: right;\n",
              "    }\n",
              "</style>\n",
              "<table border=\"1\" class=\"dataframe\">\n",
              "  <thead>\n",
              "    <tr style=\"text-align: right;\">\n",
              "      <th></th>\n",
              "      <th>sentiment</th>\n",
              "      <th>review</th>\n",
              "    </tr>\n",
              "  </thead>\n",
              "  <tbody>\n",
              "    <tr>\n",
              "      <th>72171</th>\n",
              "      <td>1</td>\n",
              "      <td>I love this stuff! The texture of this reminds...</td>\n",
              "    </tr>\n",
              "    <tr>\n",
              "      <th>155804</th>\n",
              "      <td>1</td>\n",
              "      <td>We found this product to surpas our expectatio...</td>\n",
              "    </tr>\n",
              "    <tr>\n",
              "      <th>19770</th>\n",
              "      <td>1</td>\n",
              "      <td>I have been making my son's baby food but need...</td>\n",
              "    </tr>\n",
              "    <tr>\n",
              "      <th>213765</th>\n",
              "      <td>1</td>\n",
              "      <td>Smart Fries are a great, healthy snack that my...</td>\n",
              "    </tr>\n",
              "    <tr>\n",
              "      <th>478296</th>\n",
              "      <td>1</td>\n",
              "      <td>I have used McCormick Spice for over 15 years ...</td>\n",
              "    </tr>\n",
              "  </tbody>\n",
              "</table>\n",
              "</div>"
            ],
            "text/plain": [
              "        sentiment                                             review\n",
              "72171           1  I love this stuff! The texture of this reminds...\n",
              "155804          1  We found this product to surpas our expectatio...\n",
              "19770           1  I have been making my son's baby food but need...\n",
              "213765          1  Smart Fries are a great, healthy snack that my...\n",
              "478296          1  I have used McCormick Spice for over 15 years ..."
            ]
          },
          "execution_count": 16,
          "metadata": {},
          "output_type": "execute_result"
        }
      ],
      "source": [
        "def strip_html(text):\n",
        "    soup = BeautifulSoup(text, \"html.parser\")\n",
        "    return soup.get_text()\n",
        "data['review'] = data['Text'].apply(strip_html)\n",
        "\n",
        "data=data.drop('Text',axis=1)\n",
        "\n",
        "data.head()"
      ]
    },
    {
      "cell_type": "markdown",
      "metadata": {
        "id": "k2aLaBMeR5_X"
      },
      "source": [
        "# MODEL BUILDING"
      ]
    },
    {
      "cell_type": "code",
      "execution_count": null,
      "metadata": {
        "execution": {
          "iopub.execute_input": "2021-03-13T16:28:06.822582Z",
          "iopub.status.busy": "2021-03-13T16:28:06.821370Z",
          "iopub.status.idle": "2021-03-13T16:28:08.280602Z",
          "shell.execute_reply": "2021-03-13T16:28:08.279914Z"
        },
        "papermill": {
          "duration": 1.490321,
          "end_time": "2021-03-13T16:28:08.280749",
          "exception": false,
          "start_time": "2021-03-13T16:28:06.790428",
          "status": "completed"
        },
        "tags": [],
        "id": "GL64bPz7R5_X",
        "outputId": "ec7c2ac1-9882-434c-a458-9dff5b9e5873"
      },
      "outputs": [
        {
          "data": {
            "text/html": [
              "<div>\n",
              "<style scoped>\n",
              "    .dataframe tbody tr th:only-of-type {\n",
              "        vertical-align: middle;\n",
              "    }\n",
              "\n",
              "    .dataframe tbody tr th {\n",
              "        vertical-align: top;\n",
              "    }\n",
              "\n",
              "    .dataframe thead th {\n",
              "        text-align: right;\n",
              "    }\n",
              "</style>\n",
              "<table border=\"1\" class=\"dataframe\">\n",
              "  <thead>\n",
              "    <tr style=\"text-align: right;\">\n",
              "      <th></th>\n",
              "      <th>sentiment</th>\n",
              "      <th>review</th>\n",
              "    </tr>\n",
              "  </thead>\n",
              "  <tbody>\n",
              "    <tr>\n",
              "      <th>72171</th>\n",
              "      <td>1</td>\n",
              "      <td>I love this stuff The texture of this reminds ...</td>\n",
              "    </tr>\n",
              "    <tr>\n",
              "      <th>155804</th>\n",
              "      <td>1</td>\n",
              "      <td>We found this product to surpas our expectatio...</td>\n",
              "    </tr>\n",
              "  </tbody>\n",
              "</table>\n",
              "</div>"
            ],
            "text/plain": [
              "        sentiment                                             review\n",
              "72171           1  I love this stuff The texture of this reminds ...\n",
              "155804          1  We found this product to surpas our expectatio..."
            ]
          },
          "execution_count": 17,
          "metadata": {},
          "output_type": "execute_result"
        }
      ],
      "source": [
        "import nltk  #Natural Language Processing Toolkit\n",
        "def punc_clean(text):\n",
        "    import string as st\n",
        "    a=[w for w in text if w not in st.punctuation]\n",
        "    return ''.join(a)\n",
        "data['review'] = data['review'].apply(punc_clean)\n",
        "data.head(2)"
      ]
    },
    {
      "cell_type": "code",
      "execution_count": null,
      "metadata": {
        "execution": {
          "iopub.execute_input": "2021-03-13T16:28:08.340787Z",
          "iopub.status.busy": "2021-03-13T16:28:08.340120Z",
          "iopub.status.idle": "2021-03-13T16:28:18.825059Z",
          "shell.execute_reply": "2021-03-13T16:28:18.824303Z"
        },
        "papermill": {
          "duration": 10.518179,
          "end_time": "2021-03-13T16:28:18.825205",
          "exception": false,
          "start_time": "2021-03-13T16:28:08.307026",
          "status": "completed"
        },
        "tags": [],
        "id": "FHkW16RKR5_X"
      },
      "outputs": [],
      "source": [
        "def remove_stopword(text):\n",
        "    stopword=nltk.corpus.stopwords.words('english')\n",
        "    stopword.remove('not')\n",
        "    a=[w for w in nltk.word_tokenize(text) if w not in stopword]\n",
        "    return ' '.join(a)\n",
        "data['review'] = data['review'].apply(remove_stopword)"
      ]
    },
    {
      "cell_type": "code",
      "execution_count": null,
      "metadata": {
        "execution": {
          "iopub.execute_input": "2021-03-13T16:28:18.921507Z",
          "iopub.status.busy": "2021-03-13T16:28:18.916495Z",
          "iopub.status.idle": "2021-03-13T16:28:21.553576Z",
          "shell.execute_reply": "2021-03-13T16:28:21.553032Z"
        },
        "papermill": {
          "duration": 2.703145,
          "end_time": "2021-03-13T16:28:21.553726",
          "exception": false,
          "start_time": "2021-03-13T16:28:18.850581",
          "status": "completed"
        },
        "tags": [],
        "id": "fMjS_8LwR5_X"
      },
      "outputs": [],
      "source": [
        "from sklearn.feature_extraction.text import TfidfVectorizer\n",
        "\n",
        "vectr = TfidfVectorizer(ngram_range=(1,2),min_df=1)\n",
        "vectr.fit(data['review'])\n",
        "\n",
        "vect_X = vectr.transform(data['review'])"
      ]
    },
    {
      "cell_type": "code",
      "execution_count": null,
      "metadata": {
        "execution": {
          "iopub.execute_input": "2021-03-13T16:28:21.612076Z",
          "iopub.status.busy": "2021-03-13T16:28:21.611368Z",
          "iopub.status.idle": "2021-03-13T16:28:22.028403Z",
          "shell.execute_reply": "2021-03-13T16:28:22.029297Z"
        },
        "papermill": {
          "duration": 0.44834,
          "end_time": "2021-03-13T16:28:22.029590",
          "exception": false,
          "start_time": "2021-03-13T16:28:21.581250",
          "status": "completed"
        },
        "scrolled": true,
        "tags": [],
        "id": "oCznoP18R5_X",
        "outputId": "e83d4fde-d39b-489f-c238-88d2e08ffcbd"
      },
      "outputs": [
        {
          "data": {
            "text/plain": [
              "96.63000000000001"
            ]
          },
          "execution_count": 20,
          "metadata": {},
          "output_type": "execute_result"
        }
      ],
      "source": [
        "from sklearn.linear_model import LogisticRegression\n",
        "\n",
        "model = LogisticRegression()\n",
        "\n",
        "clf=model.fit(vect_X,data['sentiment'])\n",
        "clf.score(vect_X,data['sentiment'])*100"
      ]
    },
    {
      "cell_type": "markdown",
      "metadata": {
        "id": "slLgoLRvR5_Y"
      },
      "source": [
        "# PREDICTION"
      ]
    },
    {
      "cell_type": "code",
      "execution_count": null,
      "metadata": {
        "execution": {
          "iopub.execute_input": "2021-03-13T16:28:22.140180Z",
          "iopub.status.busy": "2021-03-13T16:28:22.139557Z",
          "iopub.status.idle": "2021-03-13T16:28:22.142422Z",
          "shell.execute_reply": "2021-03-13T16:28:22.142902Z"
        },
        "papermill": {
          "duration": 0.062393,
          "end_time": "2021-03-13T16:28:22.143073",
          "exception": false,
          "start_time": "2021-03-13T16:28:22.080680",
          "status": "completed"
        },
        "tags": [],
        "id": "nipVmLygR5_Y",
        "outputId": "2ac56734-29aa-4631-bd2e-950cec212564"
      },
      "outputs": [
        {
          "data": {
            "text/plain": [
              "array([1], dtype=int64)"
            ]
          },
          "execution_count": 21,
          "metadata": {},
          "output_type": "execute_result"
        }
      ],
      "source": [
        "clf.predict(vectr.transform(['''I love ice cream''']))"
      ]
    },
    {
      "cell_type": "code",
      "execution_count": null,
      "metadata": {
        "execution": {
          "iopub.execute_input": "2021-03-13T16:28:22.201709Z",
          "iopub.status.busy": "2021-03-13T16:28:22.201077Z",
          "iopub.status.idle": "2021-03-13T16:28:22.207320Z",
          "shell.execute_reply": "2021-03-13T16:28:22.208108Z"
        },
        "papermill": {
          "duration": 0.036995,
          "end_time": "2021-03-13T16:28:22.208319",
          "exception": false,
          "start_time": "2021-03-13T16:28:22.171324",
          "status": "completed"
        },
        "tags": [],
        "id": "tw9udO1SR5_Y",
        "outputId": "4d81fad5-a3b5-4c71-e7f1-0b04367691b2"
      },
      "outputs": [
        {
          "data": {
            "text/plain": [
              "array([0], dtype=int64)"
            ]
          },
          "execution_count": 23,
          "metadata": {},
          "output_type": "execute_result"
        }
      ],
      "source": [
        "clf.predict(vectr.transform(['''I hate icecream''']))"
      ]
    },
    {
      "cell_type": "code",
      "execution_count": null,
      "metadata": {
        "id": "ta7klOFWR5_Y"
      },
      "outputs": [],
      "source": []
    }
  ],
  "metadata": {
    "kernelspec": {
      "display_name": "Python 3",
      "language": "python",
      "name": "python3"
    },
    "language_info": {
      "codemirror_mode": {
        "name": "ipython",
        "version": 3
      },
      "file_extension": ".py",
      "mimetype": "text/x-python",
      "name": "python",
      "nbconvert_exporter": "python",
      "pygments_lexer": "ipython3",
      "version": "3.8.5"
    },
    "papermill": {
      "default_parameters": {},
      "duration": 50.126058,
      "end_time": "2021-03-13T16:28:23.248091",
      "environment_variables": {},
      "exception": null,
      "input_path": "__notebook__.ipynb",
      "output_path": "__notebook__.ipynb",
      "parameters": {},
      "start_time": "2021-03-13T16:27:33.122033",
      "version": "2.2.2"
    },
    "colab": {
      "provenance": []
    }
  },
  "nbformat": 4,
  "nbformat_minor": 0
}